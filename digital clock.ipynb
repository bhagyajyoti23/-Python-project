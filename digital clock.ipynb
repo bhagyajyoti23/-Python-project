{
 "cells": [
  {
   "cell_type": "code",
   "execution_count": null,
   "id": "bcfd306b-2647-47fb-9607-f92b220e5831",
   "metadata": {},
   "outputs": [],
   "source": []
  }
 ],
 "metadata": {
  "kernelspec": {
   "display_name": "",
   "name": ""
  },
  "language_info": {
   "name": ""
  }
 },
 "nbformat": 4,
 "nbformat_minor": 5
}
